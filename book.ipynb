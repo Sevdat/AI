{
 "cells": [
  {
   "cell_type": "code",
   "execution_count": null,
   "metadata": {},
   "outputs": [],
   "source": [
    "import matplotlib.pyplot as plt\n",
    "import control as ct\n",
    "import numpy as np\n",
    "\n",
    "# Задаем передаточную функцию W(p) = 1 / (p^2 + p)\n",
    "num = [1]  # Числитель: 1\n",
    "den = [1, 1, 0]  # Знаменатель: p^2 + p\n",
    "sys = ct.TransferFunction(num, den)\n",
    "\n",
    "# 1. Диаграмма Найквиста\n",
    "plt.figure()\n",
    "ct.nyquist_plot(sys)\n",
    "plt.title('Диаграмма Найквиста')\n",
    "plt.savefig('nyquist.png')  # Сохраняем диаграмму Найквиста\n",
    "\n",
    "\n",
    "# 2. Диаграмма Боде\n",
    "plt.figure()\n",
    "ct.bode_plot(sys)\n",
    "plt.title('Диаграмма Боде')\n",
    "plt.savefig('bode.png')  # Сохраняем диаграмму Боде\n",
    "\n",
    "\n",
    "# 3. Переходная характеристика (step response)\n",
    "plt.figure()\n",
    "t, y = ct.step_response(sys)\n",
    "plt.plot(t, y)\n",
    "plt.title('Переходная характеристика')\n",
    "plt.xlabel('Время (с)')\n",
    "plt.ylabel('Амплитуда')\n",
    "plt.grid()\n",
    "plt.savefig('step_response.png')  # Сохраняем переходную характеристику\n",
    "\n",
    "\n",
    "# 4. Весовая характеристика (impulse response)\n",
    "plt.figure()\n",
    "t, y = ct.impulse_response(sys)\n",
    "plt.plot(t, y)\n",
    "plt.title('Весовая характеристика')\n",
    "plt.xlabel('Время (с)')\n",
    "plt.ylabel('Амплитуда')\n",
    "plt.grid()\n",
    "plt.savefig('impulse_response.png')  # Сохраняем весовую характеристику\n"
   ]
  }
 ],
 "metadata": {
  "kernelspec": {
   "display_name": ".venv",
   "language": "python",
   "name": "python3"
  },
  "language_info": {
   "codemirror_mode": {
    "name": "ipython",
    "version": 3
   },
   "file_extension": ".py",
   "mimetype": "text/x-python",
   "name": "python",
   "nbconvert_exporter": "python",
   "pygments_lexer": "ipython3",
   "version": "3.12.6"
  }
 },
 "nbformat": 4,
 "nbformat_minor": 2
}
